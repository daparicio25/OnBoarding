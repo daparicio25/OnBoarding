{
 "cells": [
  {
   "cell_type": "markdown",
   "metadata": {},
   "source": [
    "Operators"
   ]
  },
  {
   "cell_type": "code",
   "execution_count": 3,
   "metadata": {},
   "outputs": [
    {
     "name": "stdout",
     "output_type": "stream",
     "text": [
      "628949330\n",
      "390577533.93\n"
     ]
    }
   ],
   "source": [
    "distanceEarth = 149597870\n",
    "distanceJupiter = 778547200\n",
    "\n",
    "#Distance\n",
    "distance = distanceJupiter - distanceEarth\n",
    "print(distance)\n",
    "\n",
    "#Convert km to miles\n",
    "print (distance * 0.621)"
   ]
  },
  {
   "cell_type": "markdown",
   "metadata": {},
   "source": [
    "Convert strings to numbers"
   ]
  },
  {
   "cell_type": "code",
   "execution_count": 4,
   "metadata": {},
   "outputs": [
    {
     "name": "stdout",
     "output_type": "stream",
     "text": [
      "628949330\n",
      "390577533.93\n"
     ]
    }
   ],
   "source": [
    "planetOne = input(\"Distance first planet: \")\n",
    "planetTwo = input(\"Distance second planet: \")\n",
    "\n",
    "planetOneInt = int(planetOne)\n",
    "planetTwoInt = int(planetTwo)\n",
    "\n",
    "distance = abs(planetOneInt - planetTwoInt)\n",
    "print(distance)\n",
    "\n",
    "print(distance * 0.621)"
   ]
  }
 ],
 "metadata": {
  "interpreter": {
   "hash": "8200f10b834077e710dcbb9db4f289a66c269ddafcc953d7af26dd5d8e9cc155"
  },
  "kernelspec": {
   "display_name": "Python 3.9.1 64-bit",
   "language": "python",
   "name": "python3"
  },
  "language_info": {
   "codemirror_mode": {
    "name": "ipython",
    "version": 3
   },
   "file_extension": ".py",
   "mimetype": "text/x-python",
   "name": "python",
   "nbconvert_exporter": "python",
   "pygments_lexer": "ipython3",
   "version": "3.9.1"
  },
  "orig_nbformat": 4
 },
 "nbformat": 4,
 "nbformat_minor": 2
}

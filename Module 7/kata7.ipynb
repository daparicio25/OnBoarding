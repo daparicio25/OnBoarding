{
 "cells": [
  {
   "cell_type": "markdown",
   "metadata": {},
   "source": [
    "Control Structures"
   ]
  },
  {
   "cell_type": "code",
   "execution_count": 2,
   "metadata": {},
   "outputs": [
    {
     "name": "stdout",
     "output_type": "stream",
     "text": [
      "Venus\n",
      "Earth\n",
      "Jupiter\n"
     ]
    }
   ],
   "source": [
    "#Exercise 1\n",
    "planets = []\n",
    "planet = \"\"\n",
    "\n",
    "while planet.lower() != 'done':\n",
    "    if planet:\n",
    "        planets.append(planet)\n",
    "    planet = input(\"Enter a new planet: \")\n",
    "\n",
    "\n",
    "#Exercies 2\n",
    "for planet in planets:\n",
    "    print(planet)"
   ]
  }
 ],
 "metadata": {
  "interpreter": {
   "hash": "8200f10b834077e710dcbb9db4f289a66c269ddafcc953d7af26dd5d8e9cc155"
  },
  "kernelspec": {
   "display_name": "Python 3.9.1 64-bit",
   "language": "python",
   "name": "python3"
  },
  "language_info": {
   "codemirror_mode": {
    "name": "ipython",
    "version": 3
   },
   "file_extension": ".py",
   "mimetype": "text/x-python",
   "name": "python",
   "nbconvert_exporter": "python",
   "pygments_lexer": "ipython3",
   "version": "3.9.1"
  },
  "orig_nbformat": 4
 },
 "nbformat": 4,
 "nbformat_minor": 2
}

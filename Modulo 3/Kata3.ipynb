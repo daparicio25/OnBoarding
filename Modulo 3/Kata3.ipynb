{
 "cells": [
  {
   "cell_type": "markdown",
   "metadata": {},
   "source": [
    "Impact Warning!!!"
   ]
  },
  {
   "cell_type": "code",
   "execution_count": 2,
   "metadata": {},
   "outputs": [
    {
     "name": "stdout",
     "output_type": "stream",
     "text": [
      "Impact Warning!\n"
     ]
    }
   ],
   "source": [
    "#Problem 1\n",
    "asteroidSpeed = 49\n",
    "\n",
    "if asteroidSpeed > 25:\n",
    "    print(\"Impact Warning!\")\n",
    "else:\n",
    "    print(\"¡All it's ok!\")\n"
   ]
  },
  {
   "cell_type": "code",
   "execution_count": 3,
   "metadata": {},
   "outputs": [
    {
     "name": "stdout",
     "output_type": "stream",
     "text": [
      "Nothing to see today\n"
     ]
    }
   ],
   "source": [
    "#Problem 2\n",
    "asteroidSpeed = 19\n",
    "\n",
    "if asteroidSpeed > 20:\n",
    "    print(\"Look up! We can see a light in the sky!\")\n",
    "elif asteroidSpeed == 20:\n",
    "    print(\"Look up! We can see a light in the sky!\")\n",
    "else:\n",
    "    print(\"Nothing to see today\")"
   ]
  },
  {
   "cell_type": "code",
   "execution_count": 6,
   "metadata": {},
   "outputs": [
    {
     "name": "stdout",
     "output_type": "stream",
     "text": [
      "Look up! We can see a light in the sky!\n"
     ]
    }
   ],
   "source": [
    "#Problem 3\n",
    "asteroidSpeed = 30\n",
    "asteroidSize = 19\n",
    "\n",
    "if asteroidSpeed > 25 and asteroidSize > 25:\n",
    "    print('¡Impact Warning, A very dangerous asteroid is headed for earth!')\n",
    "elif asteroidSpeed >= 20:\n",
    "    print('Look up! We can see a light in the sky!')\n",
    "elif asteroidSize < 25:\n",
    "    print('Nothing to see today :)')\n",
    "else:\n",
    "    print('Nothing to see today :)')"
   ]
  }
 ],
 "metadata": {
  "interpreter": {
   "hash": "8200f10b834077e710dcbb9db4f289a66c269ddafcc953d7af26dd5d8e9cc155"
  },
  "kernelspec": {
   "display_name": "Python 3.9.1 64-bit",
   "language": "python",
   "name": "python3"
  },
  "language_info": {
   "codemirror_mode": {
    "name": "ipython",
    "version": 3
   },
   "file_extension": ".py",
   "mimetype": "text/x-python",
   "name": "python",
   "nbconvert_exporter": "python",
   "pygments_lexer": "ipython3",
   "version": "3.9.1"
  },
  "orig_nbformat": 4
 },
 "nbformat": 4,
 "nbformat_minor": 2
}
